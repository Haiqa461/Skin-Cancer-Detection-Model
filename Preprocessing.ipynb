{
 "cells": [
  {
   "cell_type": "markdown",
   "id": "b123f757",
   "metadata": {},
   "source": [
    "AI Powered Skin Cancer Detection Model "
   ]
  },
  {
   "cell_type": "code",
   "execution_count": 1,
   "id": "ca66d233",
   "metadata": {},
   "outputs": [],
   "source": [
    "import cv2\n",
    "import os"
   ]
  },
  {
   "cell_type": "markdown",
   "id": "816d2302",
   "metadata": {},
   "source": [
    "Remove Unusable Images"
   ]
  }
 ],
 "metadata": {
  "kernelspec": {
   "display_name": "Python 3",
   "language": "python",
   "name": "python3"
  },
  "language_info": {
   "codemirror_mode": {
    "name": "ipython",
    "version": 3
   },
   "file_extension": ".py",
   "mimetype": "text/x-python",
   "name": "python",
   "nbconvert_exporter": "python",
   "pygments_lexer": "ipython3",
   "version": "3.13.1"
  }
 },
 "nbformat": 4,
 "nbformat_minor": 5
}
