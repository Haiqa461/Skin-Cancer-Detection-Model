{
 "cells": [
  {
   "cell_type": "markdown",
   "id": "a8f4f521",
   "metadata": {},
   "source": [
    "Import Libraries"
   ]
  },
  {
   "cell_type": "code",
   "execution_count": 1,
   "id": "0913382a",
   "metadata": {},
   "outputs": [],
   "source": [
    "import os\n",
    "import cv2\n",
    "import numpy as np\n",
    "import pandas as pd\n",
    "import matplotlib.pyplot as plt\n",
    "from tqdm import tqdm\n",
    "from sklearn.model_selection import train_test_split\n",
    "import hashlib\n",
    "import shutil\n"
   ]
  },
  {
   "cell_type": "markdown",
   "id": "1a140eb7",
   "metadata": {},
   "source": [
    "Load Dataset"
   ]
  },
  {
   "cell_type": "code",
   "execution_count": 2,
   "id": "dae5239c",
   "metadata": {},
   "outputs": [
    {
     "name": "stdout",
     "output_type": "stream",
     "text": [
      "Classes: ['actinic keratosis', 'basal cell carcinoma', 'blurry_images', 'blurry_images_edges', 'dermatofibroma', 'melanoma', 'nevus', 'pigmented benign keratosis', 'seborrheic keratosis', 'squamous cell carcinoma', 'vascular lesion']\n"
     ]
    },
    {
     "name": "stderr",
     "output_type": "stream",
     "text": [
      "100%|██████████| 1152/1152 [00:02<00:00, 479.00it/s]\n",
      "100%|██████████| 1438/1438 [00:03<00:00, 477.18it/s]\n",
      "100%|██████████| 1157/1157 [00:01<00:00, 587.06it/s]\n",
      "100%|██████████| 1361/1361 [00:04<00:00, 274.17it/s]\n",
      "100%|██████████| 1358/1358 [00:05<00:00, 248.03it/s]\n",
      "100%|██████████| 1401/1401 [00:04<00:00, 304.40it/s]\n",
      "100%|██████████| 1169/1169 [00:04<00:00, 268.36it/s]\n",
      "100%|██████████| 1287/1287 [00:04<00:00, 265.38it/s]\n",
      "100%|██████████| 1101/1101 [00:02<00:00, 438.08it/s]\n",
      "100%|██████████| 1204/1204 [00:02<00:00, 475.04it/s]\n",
      "100%|██████████| 1169/1169 [00:02<00:00, 461.05it/s]\n"
     ]
    }
   ],
   "source": [
    "data_dir = r\"C:\\Users\\Administrator\\Documents\\FYP(skin cancer)\\archive (7)\\Skin cancer ISIC The International Skin Imaging Collaboration\\Train\"\n",
    "\n",
    "categories = os.listdir(data_dir)   # Each folder = one class\n",
    "print(\"Classes:\", categories)\n",
    "\n",
    "data = []\n",
    "img_size = 128   # Resize all images to 128x128\n",
    "\n",
    "for category in categories:\n",
    "    path = os.path.join(data_dir, category)\n",
    "    class_num = categories.index(category)\n",
    "    for img in tqdm(os.listdir(path)):\n",
    "        try:\n",
    "            img_array = cv2.imread(os.path.join(path, img))\n",
    "            img_array = cv2.resize(img_array, (img_size, img_size))\n",
    "            data.append([img_array, class_num])\n",
    "        except Exception as e:\n",
    "            pass\n"
   ]
  },
  {
   "cell_type": "markdown",
   "id": "1961976d",
   "metadata": {},
   "source": [
    "Label Cleaning"
   ]
  },
  {
   "cell_type": "code",
   "execution_count": 3,
   "id": "8f852aa4",
   "metadata": {},
   "outputs": [
    {
     "name": "stdout",
     "output_type": "stream",
     "text": [
      "✅ Labels cleaned and saved as labels_cleaned.csv\n"
     ]
    }
   ],
   "source": [
    "import pandas as pd\n",
    "import os\n",
    "\n",
    "# Paths to your dataset\n",
    "train_dir = r\"C:\\Users\\Administrator\\Documents\\FYP(skin cancer)\\archive (7)\\Skin cancer ISIC The International Skin Imaging Collaboration\\Train\"\n",
    "test_dir  = r\"C:\\Users\\Administrator\\Documents\\FYP(skin cancer)\\archive (7)\\Skin cancer ISIC The International Skin Imaging Collaboration\\Test\"\n",
    "\n",
    "# Function to extract labels from folder names\n",
    "def build_labels_from_folders(base_dir):\n",
    "    records = []\n",
    "    for class_name in os.listdir(base_dir):\n",
    "        class_path = os.path.join(base_dir, class_name)\n",
    "        if os.path.isdir(class_path):\n",
    "            for img_name in os.listdir(class_path):\n",
    "                image_id, ext = os.path.splitext(img_name)\n",
    "                records.append([image_id, class_name.lower().strip()])\n",
    "    return pd.DataFrame(records, columns=[\"image_id\", \"label\"])\n",
    "\n",
    "# Build label dataframe from Train + Test\n",
    "train_labels = build_labels_from_folders(train_dir)\n",
    "test_labels  = build_labels_from_folders(test_dir)\n",
    "\n",
    "labels = pd.concat([train_labels, test_labels], ignore_index=True)\n",
    "\n",
    "# Step 1: Standardize labels\n",
    "labels[\"label\"] = labels[\"label\"].str.lower().str.strip()\n",
    "\n",
    "# Step 2: Keep only valid classes\n",
    "valid_classes = [\"melanoma\", \"nevus\", \"bcc\", \"akiec\", \"bkl\", \"df\", \"vasc\"]\n",
    "labels = labels[labels[\"label\"].isin(valid_classes)]\n",
    "\n",
    "# Step 3: Drop duplicate image IDs\n",
    "labels = labels.drop_duplicates(subset=[\"image_id\"])\n",
    "\n",
    "# Save cleaned labels\n",
    "labels.to_csv(\"labels_cleaned.csv\", index=False)\n",
    "print(\"✅ Labels cleaned and saved as labels_cleaned.csv\")\n"
   ]
  },
  {
   "cell_type": "markdown",
   "id": "e4f9d82d",
   "metadata": {},
   "source": [
    "Clean Data\n"
   ]
  },
  {
   "cell_type": "markdown",
   "id": "67b0679d",
   "metadata": {},
   "source": [
    "Hashing Images to Detect Duplicates:\n",
    "\n",
    "1. Converts image → grayscale → resized.\n",
    "\n",
    "2. Computes a hash (dhash)."
   ]
  },
  {
   "cell_type": "code",
   "execution_count": 4,
   "id": "7ff86045",
   "metadata": {},
   "outputs": [
    {
     "name": "stderr",
     "output_type": "stream",
     "text": [
      "Checking actinic keratosis:   4%|▎         | 41/1152 [00:00<00:02, 406.96it/s]"
     ]
    },
    {
     "name": "stderr",
     "output_type": "stream",
     "text": [
      "Checking actinic keratosis: 100%|██████████| 1152/1152 [00:01<00:00, 724.93it/s]\n",
      "Checking basal cell carcinoma: 100%|██████████| 1438/1438 [00:01<00:00, 956.66it/s] \n",
      "Checking blurry_images: 100%|██████████| 1157/1157 [00:01<00:00, 680.30it/s]\n",
      "Checking blurry_images_edges: 100%|██████████| 1361/1361 [00:02<00:00, 557.61it/s]\n",
      "Checking dermatofibroma: 100%|██████████| 1358/1358 [00:02<00:00, 594.82it/s]\n",
      "Checking melanoma: 100%|██████████| 1401/1401 [00:02<00:00, 590.77it/s]\n",
      "Checking nevus: 100%|██████████| 1169/1169 [00:02<00:00, 538.58it/s]\n",
      "Checking pigmented benign keratosis: 100%|██████████| 1287/1287 [00:02<00:00, 525.31it/s]\n",
      "Checking seborrheic keratosis: 100%|██████████| 1101/1101 [00:01<00:00, 672.02it/s]\n",
      "Checking squamous cell carcinoma: 100%|██████████| 1204/1204 [00:01<00:00, 649.01it/s]\n",
      "Checking vascular lesion: 100%|██████████| 1169/1169 [00:01<00:00, 593.49it/s]\n"
     ]
    },
    {
     "name": "stdout",
     "output_type": "stream",
     "text": [
      "Removed 0 duplicate images.\n"
     ]
    },
    {
     "name": "stderr",
     "output_type": "stream",
     "text": [
      "Checking actinic keratosis: 100%|██████████| 16/16 [00:00<00:00, 157.43it/s]\n",
      "Checking basal cell carcinoma: 100%|██████████| 16/16 [00:00<00:00, 313.40it/s]\n",
      "Checking blurry_images: 100%|██████████| 7/7 [00:00<00:00, 191.76it/s]\n",
      "Checking dermatofibroma: 100%|██████████| 16/16 [00:00<00:00, 240.14it/s]\n",
      "Checking melanoma: 100%|██████████| 14/14 [00:00<00:00, 543.50it/s]\n",
      "Checking nevus: 100%|██████████| 13/13 [00:00<00:00, 522.64it/s]\n",
      "Checking pigmented benign keratosis: 100%|██████████| 15/15 [00:00<00:00, 430.87it/s]\n",
      "Checking seborrheic keratosis: 100%|██████████| 3/3 [00:00<00:00, 187.07it/s]\n",
      "Checking squamous cell carcinoma: 100%|██████████| 16/16 [00:00<00:00, 356.96it/s]\n",
      "Checking vascular lesion: 100%|██████████| 2/2 [00:00<00:00, 297.74it/s]"
     ]
    },
    {
     "name": "stdout",
     "output_type": "stream",
     "text": [
      "Removed 0 duplicate images.\n"
     ]
    },
    {
     "name": "stderr",
     "output_type": "stream",
     "text": [
      "\n"
     ]
    }
   ],
   "source": [
    "\n",
    "\n",
    "\n",
    "def dhash(image, hash_size=8):\n",
    "    # Convert to grayscale\n",
    "    gray = cv2.cvtColor(image, cv2.COLOR_BGR2GRAY)\n",
    "    # Resize the image\n",
    "    resized = cv2.resize(gray, (hash_size + 1, hash_size))\n",
    "    # Compute the difference\n",
    "    diff = resized[:, 1:] > resized[:, :-1]\n",
    "    # Convert to hex\n",
    "    return sum([2 ** i for (i, v) in enumerate(diff.flatten()) if v])\n",
    "\n",
    "def remove_duplicates(folder_path):\n",
    "    hashes = {}\n",
    "    duplicates = []\n",
    "\n",
    "    for category in os.listdir(folder_path):\n",
    "        class_path = os.path.join(folder_path, category)\n",
    "        if not os.path.isdir(class_path):\n",
    "            continue\n",
    "\n",
    "        for img_name in tqdm(os.listdir(class_path), desc=f\"Checking {category}\"):\n",
    "            img_path = os.path.join(class_path, img_name)\n",
    "            try:\n",
    "                img = cv2.imread(img_path)\n",
    "                if img is None:\n",
    "                    continue\n",
    "                h = dhash(img)\n",
    "                if h in hashes:\n",
    "                    duplicates.append(img_path)\n",
    "                    os.remove(img_path)   # 🔥 remove duplicate\n",
    "                else:\n",
    "                    hashes[h] = img_path\n",
    "            except:\n",
    "                continue\n",
    "\n",
    "    print(f\"Removed {len(duplicates)} duplicate images.\")\n",
    "\n",
    "# Example usage:\n",
    "train_dir = r\"C:\\Users\\Administrator\\Documents\\FYP(skin cancer)\\archive (7)\\Skin cancer ISIC The International Skin Imaging Collaboration\\Train\"\n",
    "remove_duplicates(train_dir)\n",
    "\n",
    "test_dir = r\"C:\\Users\\Administrator\\Documents\\FYP(skin cancer)\\archive (7)\\Skin cancer ISIC The International Skin Imaging Collaboration\\Test\"\n",
    "remove_duplicates(test_dir)\n"
   ]
  },
  {
   "cell_type": "markdown",
   "id": "f91fdda2",
   "metadata": {},
   "source": [
    "Blur Detection using Laplacian Variance\n",
    "\n",
    "The idea:\n",
    "\n",
    "1. Compute the Laplacian of the image.\n",
    "\n",
    "2. Calculate the variance.    variance < threshold → image is blurry.\n",
    "\n",
    "3. Low variance → blurry image\n",
    "\n",
    "4. High variance → sharp image"
   ]
  },
  {
   "cell_type": "markdown",
   "id": "04e59e6c",
   "metadata": {},
   "source": [
    "threshold=100"
   ]
  },
  {
   "cell_type": "code",
   "execution_count": 5,
   "id": "9ee6e67d",
   "metadata": {},
   "outputs": [
    {
     "name": "stderr",
     "output_type": "stream",
     "text": [
      "Checking actinic keratosis:   0%|          | 0/1152 [00:00<?, ?it/s]"
     ]
    },
    {
     "name": "stderr",
     "output_type": "stream",
     "text": [
      "Checking actinic keratosis: 100%|██████████| 1152/1152 [00:02<00:00, 402.59it/s]\n",
      "Checking basal cell carcinoma: 100%|██████████| 1438/1438 [00:03<00:00, 476.67it/s]\n",
      "Checking blurry_images_edges: 100%|██████████| 1361/1361 [00:06<00:00, 213.72it/s]\n",
      "Checking dermatofibroma: 100%|██████████| 1358/1358 [00:04<00:00, 335.98it/s]\n",
      "Checking melanoma: 100%|██████████| 1401/1401 [00:04<00:00, 335.36it/s]\n",
      "Checking nevus: 100%|██████████| 1169/1169 [00:04<00:00, 250.35it/s]\n",
      "Checking pigmented benign keratosis: 100%|██████████| 1287/1287 [00:04<00:00, 293.77it/s]\n",
      "Checking seborrheic keratosis: 100%|██████████| 1101/1101 [00:03<00:00, 353.40it/s]\n",
      "Checking squamous cell carcinoma: 100%|██████████| 1204/1204 [00:04<00:00, 244.64it/s]\n",
      "Checking vascular lesion: 100%|██████████| 1169/1169 [00:06<00:00, 173.91it/s]\n"
     ]
    },
    {
     "name": "stdout",
     "output_type": "stream",
     "text": [
      "Removed/flagged 3502 blurry images.\n"
     ]
    },
    {
     "name": "stderr",
     "output_type": "stream",
     "text": [
      "Checking actinic keratosis: 100%|██████████| 16/16 [00:00<00:00, 280.19it/s]\n",
      "Checking basal cell carcinoma: 100%|██████████| 16/16 [00:00<00:00, 281.85it/s]\n",
      "Checking dermatofibroma: 100%|██████████| 16/16 [00:00<00:00, 313.69it/s]\n",
      "Checking melanoma: 100%|██████████| 14/14 [00:00<00:00, 619.32it/s]\n",
      "Checking nevus: 100%|██████████| 13/13 [00:00<00:00, 358.17it/s]\n",
      "Checking pigmented benign keratosis: 100%|██████████| 15/15 [00:00<00:00, 319.83it/s]\n",
      "Checking seborrheic keratosis: 100%|██████████| 3/3 [00:00<00:00, 405.89it/s]\n",
      "Checking squamous cell carcinoma: 100%|██████████| 16/16 [00:00<00:00, 374.70it/s]\n",
      "Checking vascular lesion: 100%|██████████| 2/2 [00:00<00:00, 540.71it/s]"
     ]
    },
    {
     "name": "stdout",
     "output_type": "stream",
     "text": [
      "Removed/flagged 0 blurry images.\n"
     ]
    },
    {
     "name": "stderr",
     "output_type": "stream",
     "text": [
      "\n"
     ]
    }
   ],
   "source": [
    "\n",
    "def detect_blur(image_path, threshold=100):\n",
    "    \"\"\"Return True if the image is blurry\"\"\"\n",
    "    img = cv2.imread(image_path, cv2.IMREAD_GRAYSCALE)\n",
    "    if img is None:\n",
    "        return True   # Treat unreadable image as bad\n",
    "    laplacian_var = cv2.Laplacian(img, cv2.CV_64F).var()\n",
    "    return laplacian_var < threshold\n",
    "\n",
    "def remove_blurry_images(folder_path, threshold=100, move_to_folder=True):\n",
    "    blurry_count = 0\n",
    "    blurry_folder = os.path.join(folder_path, \"blurry_images\")\n",
    "\n",
    "    if move_to_folder and not os.path.exists(blurry_folder):\n",
    "        os.makedirs(blurry_folder)\n",
    "\n",
    "    for category in os.listdir(folder_path):\n",
    "        class_path = os.path.join(folder_path, category)\n",
    "        if not os.path.isdir(class_path) or category == \"blurry_images\":\n",
    "            continue\n",
    "\n",
    "        for img_name in tqdm(os.listdir(class_path), desc=f\"Checking {category}\"):\n",
    "            img_path = os.path.join(class_path, img_name)\n",
    "            try:\n",
    "                if detect_blur(img_path, threshold):\n",
    "                    blurry_count += 1\n",
    "                    if move_to_folder:\n",
    "                        shutil.move(img_path, os.path.join(blurry_folder, img_name))\n",
    "                    else:\n",
    "                        os.remove(img_path)\n",
    "            except:\n",
    "                continue\n",
    "\n",
    "    print(f\"Removed/flagged {blurry_count} blurry images.\")\n",
    "\n",
    "# Example usage:\n",
    "train_dir = r\"C:\\Users\\Administrator\\Documents\\FYP(skin cancer)\\archive (7)\\Skin cancer ISIC The International Skin Imaging Collaboration\\Train\"\n",
    "remove_blurry_images(train_dir, threshold=100, move_to_folder=True)\n",
    "\n",
    "test_dir = r\"C:\\Users\\Administrator\\Documents\\FYP(skin cancer)\\archive (7)\\Skin cancer ISIC The International Skin Imaging Collaboration\\Test\"\n",
    "remove_blurry_images(test_dir, threshold=100, move_to_folder=True)\n"
   ]
  },
  {
   "cell_type": "markdown",
   "id": "4b4f4c9a",
   "metadata": {},
   "source": [
    "Canny edge detector:\n",
    "Count number of edge pixels.\n",
    "\n",
    "If edge count < threshold → image is blurry → move it to a blurry_images_edges folder\n",
    "\n",
    "threshold=50\n"
   ]
  },
  {
   "cell_type": "code",
   "execution_count": 6,
   "id": "36785fb5",
   "metadata": {},
   "outputs": [
    {
     "name": "stderr",
     "output_type": "stream",
     "text": [
      "Checking actinic keratosis:   2%|▏         | 21/982 [00:00<00:04, 203.60it/s]"
     ]
    },
    {
     "name": "stderr",
     "output_type": "stream",
     "text": [
      "Checking actinic keratosis: 100%|██████████| 982/982 [00:01<00:00, 784.51it/s]\n",
      "Checking basal cell carcinoma: 100%|██████████| 1095/1095 [00:01<00:00, 837.07it/s]\n",
      "Checking blurry_images: 100%|██████████| 3869/3869 [00:30<00:00, 127.25it/s]\n",
      "Checking dermatofibroma: 100%|██████████| 934/934 [00:00<00:00, 1028.15it/s]\n",
      "Checking melanoma: 100%|██████████| 1190/1190 [00:01<00:00, 947.42it/s]\n",
      "Checking nevus: 100%|██████████| 812/812 [00:00<00:00, 995.36it/s] \n",
      "Checking pigmented benign keratosis: 100%|██████████| 1068/1068 [00:01<00:00, 954.65it/s]\n",
      "Checking seborrheic keratosis: 100%|██████████| 1004/1004 [00:01<00:00, 924.50it/s]\n",
      "Checking squamous cell carcinoma: 100%|██████████| 905/905 [00:00<00:00, 951.91it/s]\n",
      "Checking vascular lesion: 100%|██████████| 600/600 [00:00<00:00, 971.00it/s] "
     ]
    },
    {
     "name": "stdout",
     "output_type": "stream",
     "text": [
      "Moved 379 blurry images to C:\\Users\\Administrator\\Documents\\FYP(skin cancer)\\archive (7)\\Skin cancer ISIC The International Skin Imaging Collaboration\\Train\\blurry_images_edges\n"
     ]
    },
    {
     "name": "stderr",
     "output_type": "stream",
     "text": [
      "\n"
     ]
    }
   ],
   "source": [
    "def is_blurry_edge(image_path, threshold=50):\n",
    "    \"\"\"Detect blur using edge detection method\"\"\"\n",
    "    img = cv2.imread(image_path, cv2.IMREAD_GRAYSCALE)\n",
    "    if img is None:\n",
    "        return True\n",
    "    \n",
    "    # Apply Canny Edge Detector\n",
    "    edges = cv2.Canny(img, 100, 200)\n",
    "    edge_strength = cv2.countNonZero(edges)  # how many edge pixels exist\n",
    "    \n",
    "    return edge_strength < threshold  # If too few edges → blurry\n",
    "\n",
    "def remove_blurry_images_with_edges(folder_path, threshold=50):\n",
    "    blurry_folder = os.path.join(folder_path, \"blurry_images_edges\")\n",
    "    if not os.path.exists(blurry_folder):\n",
    "        os.makedirs(blurry_folder)\n",
    "\n",
    "    blurry_count = 0\n",
    "    for category in os.listdir(folder_path):\n",
    "        class_path = os.path.join(folder_path, category)\n",
    "        if not os.path.isdir(class_path) or category == \"blurry_images_edges\":\n",
    "            continue\n",
    "\n",
    "        for img_name in tqdm(os.listdir(class_path), desc=f\"Checking {category}\"):\n",
    "            img_path = os.path.join(class_path, img_name)\n",
    "            try:\n",
    "                if is_blurry_edge(img_path, threshold):\n",
    "                    blurry_count += 1\n",
    "                    shutil.move(img_path, os.path.join(blurry_folder, img_name))\n",
    "            except:\n",
    "                continue\n",
    "\n",
    "    print(f\"Moved {blurry_count} blurry images to {blurry_folder}\")\n",
    "\n",
    "# Example usage\n",
    "train_dir = r\"C:\\Users\\Administrator\\Documents\\FYP(skin cancer)\\archive (7)\\Skin cancer ISIC The International Skin Imaging Collaboration\\Train\"\n",
    "remove_blurry_images_with_edges(train_dir, threshold=50)\n"
   ]
  },
  {
   "cell_type": "markdown",
   "id": "0b51b38e",
   "metadata": {},
   "source": [
    "Normalize + Resize"
   ]
  },
  {
   "cell_type": "code",
   "execution_count": 7,
   "id": "e682e962",
   "metadata": {},
   "outputs": [
    {
     "name": "stderr",
     "output_type": "stream",
     "text": [
      "Loading actinic keratosis: 100%|██████████| 982/982 [00:02<00:00, 450.51it/s]\n",
      "Loading basal cell carcinoma: 100%|██████████| 1095/1095 [00:01<00:00, 689.09it/s]\n",
      "Loading blurry_images: 100%|██████████| 3491/3491 [00:07<00:00, 451.98it/s]\n",
      "Loading blurry_images_edges: 100%|██████████| 926/926 [00:02<00:00, 424.00it/s]\n",
      "Loading dermatofibroma: 100%|██████████| 933/933 [00:02<00:00, 456.26it/s]\n",
      "Loading melanoma: 100%|██████████| 1190/1190 [00:02<00:00, 405.96it/s]\n",
      "Loading nevus: 100%|██████████| 812/812 [00:01<00:00, 439.39it/s]\n",
      "Loading pigmented benign keratosis: 100%|██████████| 1068/1068 [00:02<00:00, 448.33it/s]\n",
      "Loading seborrheic keratosis: 100%|██████████| 1004/1004 [00:02<00:00, 412.04it/s]\n",
      "Loading squamous cell carcinoma: 100%|██████████| 905/905 [00:02<00:00, 428.18it/s]\n",
      "Loading vascular lesion: 100%|██████████| 600/600 [00:01<00:00, 443.18it/s]\n",
      "Loading actinic keratosis: 100%|██████████| 16/16 [00:00<00:00, 1264.44it/s]\n",
      "Loading basal cell carcinoma: 100%|██████████| 16/16 [00:00<00:00, 824.42it/s]\n",
      "Loading blurry_images: 100%|██████████| 7/7 [00:00<00:00, 756.00it/s]\n",
      "Loading dermatofibroma: 100%|██████████| 16/16 [00:00<00:00, 696.72it/s]\n",
      "Loading melanoma: 100%|██████████| 14/14 [00:00<00:00, 723.30it/s]\n",
      "Loading nevus: 100%|██████████| 13/13 [00:00<00:00, 787.89it/s]\n",
      "Loading pigmented benign keratosis: 100%|██████████| 15/15 [00:00<00:00, 756.49it/s]\n",
      "Loading seborrheic keratosis: 100%|██████████| 3/3 [00:00<00:00, 767.77it/s]\n",
      "Loading squamous cell carcinoma: 100%|██████████| 16/16 [00:00<00:00, 694.49it/s]\n",
      "Loading vascular lesion: 100%|██████████| 2/2 [00:00<00:00, 381.49it/s]\n"
     ]
    },
    {
     "name": "stdout",
     "output_type": "stream",
     "text": [
      "Training set shape: (13006, 128, 128, 3) (13006,)\n",
      "Testing set shape: (118, 128, 128, 3) (118,)\n",
      "Classes: ['actinic keratosis', 'basal cell carcinoma', 'blurry_images', 'blurry_images_edges', 'dermatofibroma', 'melanoma', 'nevus', 'pigmented benign keratosis', 'seborrheic keratosis', 'squamous cell carcinoma', 'vascular lesion']\n"
     ]
    }
   ],
   "source": [
    "# Path to your dataset (already cleaned and augmented)\n",
    "train_dir = r\"C:\\Users\\Administrator\\Documents\\FYP(skin cancer)\\archive (7)\\Skin cancer ISIC The International Skin Imaging Collaboration\\Train\"\n",
    "test_dir  = r\"C:\\Users\\Administrator\\Documents\\FYP(skin cancer)\\archive (7)\\Skin cancer ISIC The International Skin Imaging Collaboration\\Test\"\n",
    "\n",
    "img_size = 128  # you can also use 224 for ResNet/EfficientNet\n",
    "\n",
    "def load_and_preprocess_images(data_dir, img_size=128):\n",
    "    X = []\n",
    "    y = []\n",
    "    categories = [cls for cls in os.listdir(data_dir) if os.path.isdir(os.path.join(data_dir, cls))]\n",
    "\n",
    "    for category in categories:\n",
    "        class_path = os.path.join(data_dir, category)\n",
    "        label = categories.index(category)\n",
    "\n",
    "        for img_name in tqdm(os.listdir(class_path), desc=f\"Loading {category}\"):\n",
    "            img_path = os.path.join(class_path, img_name)\n",
    "            try:\n",
    "                img = cv2.imread(img_path)\n",
    "                if img is None:\n",
    "                    continue\n",
    "                img = cv2.resize(img, (img_size, img_size))   # Resize\n",
    "                img = img.astype(\"float32\") / 255.0           # Normalize\n",
    "                X.append(img)\n",
    "                y.append(label)\n",
    "            except:\n",
    "                continue\n",
    "\n",
    "    X = np.array(X, dtype=\"float32\")\n",
    "    y = np.array(y)\n",
    "    return X, y, categories\n",
    "\n",
    "# Process Train and Test\n",
    "X_train, y_train, categories = load_and_preprocess_images(train_dir, img_size)\n",
    "X_test, y_test, _ = load_and_preprocess_images(test_dir, img_size)\n",
    "\n",
    "print(\"Training set shape:\", X_train.shape, y_train.shape)\n",
    "print(\"Testing set shape:\", X_test.shape, y_test.shape)\n",
    "print(\"Classes:\", categories)\n"
   ]
  },
  {
   "cell_type": "markdown",
   "id": "dc6d0468",
   "metadata": {},
   "source": [
    "Split Train/Test"
   ]
  },
  {
   "cell_type": "code",
   "execution_count": 11,
   "id": "2f0486f0",
   "metadata": {},
   "outputs": [
    {
     "ename": "NameError",
     "evalue": "name 'X' is not defined",
     "output_type": "error",
     "traceback": [
      "\u001b[31m---------------------------------------------------------------------------\u001b[39m",
      "\u001b[31mNameError\u001b[39m                                 Traceback (most recent call last)",
      "\u001b[36mCell\u001b[39m\u001b[36m \u001b[39m\u001b[32mIn[11]\u001b[39m\u001b[32m, line 2\u001b[39m\n\u001b[32m      1\u001b[39m \u001b[38;5;66;03m# Split into Train and Validation (80% / 20%)\u001b[39;00m\n\u001b[32m----> \u001b[39m\u001b[32m2\u001b[39m X_train, X_val, y_train, y_val = train_test_split(\u001b[43mX\u001b[49m, y, test_size=\u001b[32m0.2\u001b[39m, random_state=\u001b[32m42\u001b[39m, stratify=y)\n\u001b[32m      3\u001b[39m \u001b[38;5;28mprint\u001b[39m(\u001b[33m\"\u001b[39m\u001b[33mTrain shape:\u001b[39m\u001b[33m\"\u001b[39m, X_train.shape)\n\u001b[32m      4\u001b[39m \u001b[38;5;28mprint\u001b[39m(\u001b[33m\"\u001b[39m\u001b[33mValidation shape:\u001b[39m\u001b[33m\"\u001b[39m, X_val.shape)\n",
      "\u001b[31mNameError\u001b[39m: name 'X' is not defined"
     ]
    }
   ],
   "source": [
    "# Split into Train and Validation (80% / 20%)\n",
    "X_train, X_val, y_train, y_val = train_test_split(X, y, test_size=0.2, random_state=42, stratify=y)\n",
    "print(\"Train shape:\", X_train.shape)\n",
    "print(\"Validation shape:\", X_val.shape)\n"
   ]
  },
  {
   "cell_type": "markdown",
   "id": "11534bb0",
   "metadata": {},
   "source": [
    "Balance the Dataset using:"
   ]
  },
  {
   "cell_type": "markdown",
   "id": "d11ff349",
   "metadata": {},
   "source": [
    "Oversampling\n",
    "\n",
    "Duplicate minority class samples → risk of overfitting."
   ]
  },
  {
   "cell_type": "code",
   "execution_count": 63,
   "id": "2c0eaa1d",
   "metadata": {},
   "outputs": [
    {
     "name": "stdout",
     "output_type": "stream",
     "text": [
      "After oversampling: (4410, 128, 128, 3) (4410,)\n"
     ]
    }
   ],
   "source": [
    "from imblearn.over_sampling import RandomOverSampler\n",
    "\n",
    "ros = RandomOverSampler(sampling_strategy=\"not majority\", random_state=42)\n",
    "X_resampled, y_resampled = ros.fit_resample(X.reshape(len(X), -1), y)\n",
    "\n",
    "X_resampled = X_resampled.reshape(-1, img_size, img_size, 3)\n",
    "print(\"After oversampling:\", X_resampled.shape, y_resampled.shape)\n"
   ]
  },
  {
   "cell_type": "markdown",
   "id": "10cc2863",
   "metadata": {},
   "source": [
    "Data Augmentation (Refinement)"
   ]
  },
  {
   "cell_type": "markdown",
   "id": "bd18f0d4",
   "metadata": {},
   "source": [
    "Step 1: Count Images per Class"
   ]
  },
  {
   "cell_type": "code",
   "execution_count": 64,
   "id": "d683445e",
   "metadata": {},
   "outputs": [
    {
     "name": "stdout",
     "output_type": "stream",
     "text": [
      "Class distribution before augmentation:\n",
      "{'actinic keratosis': 401, 'basal cell carcinoma': 494, 'blurry_images': 1157, 'blurry_images_edges': 473, 'dermatofibroma': 288, 'melanoma': 724, 'nevus': 402, 'pigmented benign keratosis': 334, 'seborrheic keratosis': 389, 'squamous cell carcinoma': 419, 'vascular lesion': 245}\n"
     ]
    }
   ],
   "source": [
    "train_dir = r\"C:\\Users\\Administrator\\Documents\\FYP(skin cancer)\\archive (7)\\Skin cancer ISIC The International Skin Imaging Collaboration\\Train\"\n",
    "\n",
    "class_counts = {}\n",
    "for cls in os.listdir(train_dir):\n",
    "    cls_path = os.path.join(train_dir, cls)\n",
    "    if os.path.isdir(cls_path):\n",
    "        class_counts[cls] = len(os.listdir(cls_path))\n",
    "\n",
    "print(\"Class distribution before augmentation:\")\n",
    "print(class_counts)\n",
    "\n"
   ]
  },
  {
   "cell_type": "markdown",
   "id": "c0619bc5",
   "metadata": {},
   "source": [
    "Step 2: Identify Majority and Minority Classes"
   ]
  },
  {
   "cell_type": "code",
   "execution_count": 65,
   "id": "9e439268",
   "metadata": {},
   "outputs": [
    {
     "name": "stdout",
     "output_type": "stream",
     "text": [
      "Majority class has: 1157 images\n",
      "Minority classes (to augment): ['actinic keratosis', 'basal cell carcinoma', 'blurry_images_edges', 'dermatofibroma', 'melanoma', 'nevus', 'pigmented benign keratosis', 'seborrheic keratosis', 'squamous cell carcinoma', 'vascular lesion']\n"
     ]
    }
   ],
   "source": [
    "max_count = max(class_counts.values())\n",
    "minority_classes = [cls for cls, count in class_counts.items() if count < max_count]\n",
    "\n",
    "print(\"Majority class has:\", max_count, \"images\")\n",
    "print(\"Minority classes (to augment):\", minority_classes)\n"
   ]
  },
  {
   "cell_type": "markdown",
   "id": "f4f9aefa",
   "metadata": {},
   "source": [
    "Step 3: Apply Augmentation Only on Minority Classes"
   ]
  },
  {
   "cell_type": "code",
   "execution_count": 66,
   "id": "77850389",
   "metadata": {},
   "outputs": [
    {
     "name": "stdout",
     "output_type": "stream",
     "text": [
      "Augmenting actinic keratosis: need 756 more images\n",
      "Augmenting basal cell carcinoma: need 663 more images\n",
      "Augmenting blurry_images_edges: need 684 more images\n",
      "Augmenting dermatofibroma: need 869 more images\n",
      "Augmenting melanoma: need 433 more images\n",
      "Augmenting nevus: need 755 more images\n",
      "Augmenting pigmented benign keratosis: need 823 more images\n",
      "Augmenting seborrheic keratosis: need 768 more images\n",
      "Augmenting squamous cell carcinoma: need 738 more images\n",
      "Augmenting vascular lesion: need 912 more images\n"
     ]
    }
   ],
   "source": [
    "from tensorflow.keras.preprocessing.image import ImageDataGenerator\n",
    "\n",
    "# Define augmentation\n",
    "datagen = ImageDataGenerator(\n",
    "    rotation_range=30,\n",
    "    width_shift_range=0.1,\n",
    "    height_shift_range=0.1,\n",
    "    zoom_range=0.2,\n",
    "    horizontal_flip=True,\n",
    "    vertical_flip=True,\n",
    "    brightness_range=[0.8, 1.2],\n",
    "    fill_mode=\"nearest\"\n",
    ")\n",
    "\n",
    "img_size = 128  # resize for consistency\n",
    "\n",
    "# Augment only minority classes\n",
    "for cls in minority_classes:\n",
    "    cls_path = os.path.join(train_dir, cls)\n",
    "    images = os.listdir(cls_path)\n",
    "    needed = max_count - len(images)   # how many extra images we need\n",
    "\n",
    "    print(f\"Augmenting {cls}: need {needed} more images\")\n",
    "\n",
    "    for img_name in images:\n",
    "        img_path = os.path.join(cls_path, img_name)\n",
    "        img = cv2.imread(img_path)\n",
    "        if img is None:\n",
    "            continue\n",
    "        img = cv2.resize(img, (img_size, img_size))\n",
    "        img = np.expand_dims(img, axis=0)  # add batch dimension\n",
    "\n",
    "        i = 0\n",
    "        for batch in datagen.flow(img, batch_size=1,\n",
    "                                  save_to_dir=cls_path,\n",
    "                                  save_prefix=\"aug\",\n",
    "                                  save_format=\"jpg\"):\n",
    "            i += 1\n",
    "            if i >= needed // len(images) + 1:  # spread augmentations\n",
    "                break\n"
   ]
  },
  {
   "cell_type": "markdown",
   "id": "1f3097fe",
   "metadata": {},
   "source": [
    "Normalize pixel values"
   ]
  },
  {
   "cell_type": "code",
   "execution_count": 67,
   "id": "5eff5457",
   "metadata": {},
   "outputs": [
    {
     "name": "stderr",
     "output_type": "stream",
     "text": [
      "Loading actinic keratosis: 100%|██████████| 1152/1152 [00:21<00:00, 53.54it/s] \n",
      "Loading basal cell carcinoma: 100%|██████████| 1438/1438 [00:22<00:00, 62.72it/s] \n",
      "Loading blurry_images: 100%|██████████| 1157/1157 [00:22<00:00, 51.15it/s]\n",
      "Loading blurry_images_edges: 100%|██████████| 1361/1361 [00:44<00:00, 30.80it/s]\n",
      "Loading dermatofibroma: 100%|██████████| 1358/1358 [00:35<00:00, 38.52it/s]\n",
      "Loading melanoma: 100%|██████████| 1401/1401 [00:24<00:00, 58.20it/s] \n",
      "Loading nevus: 100%|██████████| 1169/1169 [00:26<00:00, 44.57it/s] \n",
      "Loading pigmented benign keratosis: 100%|██████████| 1287/1287 [00:29<00:00, 43.56it/s] \n",
      "Loading seborrheic keratosis: 100%|██████████| 1101/1101 [00:23<00:00, 47.44it/s]\n",
      "Loading squamous cell carcinoma: 100%|██████████| 1204/1204 [00:17<00:00, 70.40it/s] \n",
      "Loading vascular lesion: 100%|██████████| 1169/1169 [00:28<00:00, 41.52it/s] \n"
     ]
    },
    {
     "name": "stdout",
     "output_type": "stream",
     "text": [
      "Data shape: (13797, 128, 128, 3)\n",
      "Label shape: (13797,)\n"
     ]
    }
   ],
   "source": [
    "data_dir = r\"C:\\Users\\Administrator\\Documents\\FYP(skin cancer)\\archive (7)\\Skin cancer ISIC The International Skin Imaging Collaboration\\Train\"\n",
    "\n",
    "categories = os.listdir(data_dir)\n",
    "img_size = 128   # resize to 128x128\n",
    "\n",
    "X = []\n",
    "y = []\n",
    "\n",
    "for category in categories:\n",
    "    class_path = os.path.join(data_dir, category)\n",
    "    if not os.path.isdir(class_path):\n",
    "        continue\n",
    "    \n",
    "    class_num = categories.index(category)  # assign label\n",
    "    for img_name in tqdm(os.listdir(class_path), desc=f\"Loading {category}\"):\n",
    "        try:\n",
    "            img_path = os.path.join(class_path, img_name)\n",
    "            img = cv2.imread(img_path)\n",
    "            if img is None:\n",
    "                continue\n",
    "            img = cv2.resize(img, (img_size, img_size))\n",
    "            X.append(img)\n",
    "            y.append(class_num)\n",
    "        except:\n",
    "            continue\n",
    "\n",
    "# Convert to NumPy arrays\n",
    "X = np.array(X, dtype=\"float32\")\n",
    "y = np.array(y)\n",
    "\n",
    "# Normalize pixel values\n",
    "X = X / 255.0\n",
    "print(\"Data shape:\", X.shape)\n",
    "print(\"Label shape:\", y.shape)"
   ]
  },
  {
   "cell_type": "markdown",
   "id": "631d17a9",
   "metadata": {},
   "source": [
    "Handle Class Imbalance"
   ]
  },
  {
   "cell_type": "code",
   "execution_count": 68,
   "id": "747c9c5c",
   "metadata": {},
   "outputs": [
    {
     "name": "stdout",
     "output_type": "stream",
     "text": [
      "Class Weights: {0: np.float64(1.8461538461538463), 1: np.float64(0.631578947368421), 2: np.float64(1.6), 3: np.float64(2.3661971830985915), 4: np.float64(0.49122807017543857), 5: np.float64(0.7636363636363637), 6: np.float64(0.47592067988668557), 7: np.float64(84.0), 8: np.float64(1.1748251748251748), 9: np.float64(1.9310344827586208)}\n"
     ]
    }
   ],
   "source": [
    "from sklearn.utils.class_weight import compute_class_weight\n",
    "\n",
    "class_weights = compute_class_weight(class_weight=\"balanced\", classes=np.unique(y_train), y=y_train)\n",
    "print(\"Class Weights:\", dict(enumerate(class_weights)))"
   ]
  },
  {
   "cell_type": "markdown",
   "id": "ec555111",
   "metadata": {},
   "source": [
    "Save Refined Dataset"
   ]
  },
  {
   "cell_type": "code",
   "execution_count": 78,
   "id": "ce374484",
   "metadata": {},
   "outputs": [
    {
     "name": "stdout",
     "output_type": "stream",
     "text": [
      "✅ Refined dataset saved at: C:\\Users\\Administrator\\Documents\\FYP(skin cancer)\\Refined_Dataset\n",
      "✅ Metadata saved as refined_labels.csv\n",
      "✅ Valid images: 1149 | ❌ Missing images: 0\n"
     ]
    }
   ],
   "source": [
    "train_dir = r\"C:\\Users\\Administrator\\Documents\\FYP(skin cancer)\\archive (7)\\Skin cancer ISIC The International Skin Imaging Collaboration\\Train\"\n",
    "test_dir  = r\"C:\\Users\\Administrator\\Documents\\FYP(skin cancer)\\archive (7)\\Skin cancer ISIC The International Skin Imaging Collaboration\\Test\"\n",
    "output_dir = r\"C:\\Users\\Administrator\\Documents\\FYP(skin cancer)\\Refined_Dataset\"\n",
    "\n",
    "# Load cleaned labels\n",
    "labels = pd.read_csv(\"labels_cleaned.csv\")\n",
    "\n",
    "# Parameters\n",
    "target_size = (224, 224)  # resize all images to 224x224\n",
    "\n",
    "# Check valid files\n",
    "valid_records = []\n",
    "missing = []\n",
    "\n",
    "for _, row in labels.iterrows():\n",
    "    image_id = row[\"image_id\"]\n",
    "    label = row[\"label\"]\n",
    "\n",
    "    found = False\n",
    "    for ext in [\".jpg\", \".jpeg\", \".png\"]:\n",
    "        train_path = os.path.join(train_dir, label, image_id + ext)\n",
    "        test_path = os.path.join(test_dir, label, image_id + ext)\n",
    "\n",
    "        if os.path.exists(train_path):\n",
    "            file_path = train_path\n",
    "            found = True\n",
    "            break\n",
    "        elif os.path.exists(test_path):\n",
    "            file_path = test_path\n",
    "            found = True\n",
    "            break\n",
    "\n",
    "    if found:\n",
    "        # Prepare save path\n",
    "        save_folder = os.path.join(output_dir, label)\n",
    "        os.makedirs(save_folder, exist_ok=True)\n",
    "        save_path = os.path.join(save_folder, image_id + \".jpg\")\n",
    "\n",
    "        try:\n",
    "            # Open, resize, normalize (0-255 → 0-1 range), then save back\n",
    "            img = Image.open(file_path).convert(\"RGB\")\n",
    "            img = img.resize(target_size)\n",
    "            img.save(save_path, \"JPEG\")\n",
    "\n",
    "            valid_records.append([image_id, label, save_path])\n",
    "        except Exception as e:\n",
    "            print(f\"⚠️ Error processing {file_path}: {e}\")\n",
    "    else:\n",
    "        missing.append(image_id)\n",
    "\n",
    "# Save refined CSV\n",
    "df_refined = pd.DataFrame(valid_records, columns=[\"image_id\", \"label\", \"path\"])\n",
    "df_refined.to_csv(\"refined_labels.csv\", index=False)\n",
    "\n",
    "print(f\"✅ Refined dataset saved at: {output_dir}\")\n",
    "print(f\"✅ Metadata saved as refined_labels.csv\")\n",
    "print(f\"✅ Valid images: {len(valid_records)} | ❌ Missing images: {len(missing)}\")\n"
   ]
  }
 ],
 "metadata": {
  "kernelspec": {
   "display_name": "Python 3",
   "language": "python",
   "name": "python3"
  },
  "language_info": {
   "codemirror_mode": {
    "name": "ipython",
    "version": 3
   },
   "file_extension": ".py",
   "mimetype": "text/x-python",
   "name": "python",
   "nbconvert_exporter": "python",
   "pygments_lexer": "ipython3",
   "version": "3.11.0"
  }
 },
 "nbformat": 4,
 "nbformat_minor": 5
}
